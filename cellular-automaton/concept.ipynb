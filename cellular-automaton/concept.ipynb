{
 "cells": [
  {
   "cell_type": "code",
   "execution_count": 22,
   "metadata": {},
   "outputs": [],
   "source": [
    "import contextlib\n",
    "import numpy as np\n",
    "import pygad\n",
    "import matplotlib.pyplot as plt\n",
    "from sklearn.metrics import confusion_matrix\n",
    "from sklearn.metrics import ConfusionMatrixDisplay\n",
    "\n",
    "from sklearn.metrics import roc_auc_score, accuracy_score, precision_score, recall_score, f1_score\n",
    "from itertools import product"
   ]
  },
  {
   "cell_type": "code",
   "execution_count": 2,
   "metadata": {},
   "outputs": [],
   "source": [
    "@contextlib.contextmanager\n",
    "def temp_seed(seed):\n",
    "    state = np.random.get_state()\n",
    "    np.random.seed(seed)\n",
    "    try:\n",
    "        yield\n",
    "    finally:\n",
    "        np.random.set_state(state)"
   ]
  },
  {
   "cell_type": "code",
   "execution_count": 3,
   "metadata": {},
   "outputs": [],
   "source": [
    "vision = 3 # the number of cells to the left and right that we can see\n",
    "all_possible_states = list(range(2))\n",
    "cell_states_number = len(all_possible_states) # the number of possible states for a cell\n",
    "cell_observe_state_number = cell_states_number**(2*vision + 1) # the number of possible states"
   ]
  },
  {
   "cell_type": "code",
   "execution_count": 4,
   "metadata": {},
   "outputs": [],
   "source": [
    "def base_10_to_base_n(number, base) -> list:\n",
    "    if number == 0:\n",
    "        return [0]\n",
    "    digits = []\n",
    "    while number:\n",
    "        digits.append(int(number % base))\n",
    "        number //= base\n",
    "    return digits[::-1]\n",
    "\n",
    "def base_n_to_base_10(numbers, base):\n",
    "    return sum([base**i * x for i, x in enumerate(numbers[::-1])])"
   ]
  },
  {
   "cell_type": "code",
   "execution_count": 5,
   "metadata": {},
   "outputs": [
    {
     "data": {
      "text/plain": [
       "128"
      ]
     },
     "execution_count": 5,
     "metadata": {},
     "output_type": "execute_result"
    }
   ],
   "source": [
    "with temp_seed(43):\n",
    "    rule = np.random.choice(all_possible_states, cell_observe_state_number)\n",
    "# rule_id = base_n_to_base_10(rule, cell_states_number)\n",
    "# rule#, rule_id\n",
    "len(rule)"
   ]
  },
  {
   "cell_type": "code",
   "execution_count": 91,
   "metadata": {},
   "outputs": [
    {
     "data": {
      "text/plain": [
       "128"
      ]
     },
     "execution_count": 91,
     "metadata": {},
     "output_type": "execute_result"
    }
   ],
   "source": [
    "rule = base_10_to_base_n(6667021275756174439087127638698866559, 2)\n",
    "rule = [0] * (cell_observe_state_number - len(rule)) + rule\n",
    "# rule = rule + [0] * (cell_observe_state_number - len(rule)) \n",
    "len(rule)"
   ]
  },
  {
   "cell_type": "code",
   "execution_count": 92,
   "metadata": {},
   "outputs": [],
   "source": [
    "\n",
    "# combinations = product(all_possible_states[::-1], repeat=2*vision+1)\n",
    "combinations = product(all_possible_states, repeat=2*vision+1)\n",
    "rule_map = dict(zip(combinations, rule))\n",
    "# rule_map"
   ]
  },
  {
   "cell_type": "code",
   "execution_count": 93,
   "metadata": {},
   "outputs": [],
   "source": [
    "import numpy as np\n",
    "def slicer(a, lower, upper):\n",
    "    res = []\n",
    "    if lower < 0:\n",
    "        res = a[lower:]+a[:upper]\n",
    "    elif upper > len(a):\n",
    "        res= a[lower:]+a[:upper-len(a)]\n",
    "    else:\n",
    "        res= a[lower: upper]\n",
    "    return tuple(res)\n",
    "\n",
    "def get_state_boundless(rule, state):\n",
    "    return list(rule[slicer(state,i-vision,i+vision+1)] for i in range(len(state)))\n",
    "\n",
    "def get_random_state(length, all_possible_states=all_possible_states, seed=0):\n",
    "    with temp_seed(seed):\n",
    "        return tuple(np.random.choice(all_possible_states, length))\n"
   ]
  },
  {
   "cell_type": "code",
   "execution_count": 94,
   "metadata": {},
   "outputs": [],
   "source": [
    "def visualize_states(states: np.ndarray, figsize=(10,10), cmap=\"viridis\"):\n",
    "    plt.figure(figsize=figsize)\n",
    "    plt.imshow(states, cmap=cmap, interpolation=\"none\")\n",
    "    plt.axis(\"off\")\n",
    "    plt.show()\n"
   ]
  },
  {
   "cell_type": "code",
   "execution_count": 114,
   "metadata": {},
   "outputs": [
    {
     "name": "stdout",
     "output_type": "stream",
     "text": [
      "0.47\n"
     ]
    },
    {
     "data": {
      "image/png": "[encoded data removed]",
      "text/plain": [
       "<Figure size 360x360 with 1 Axes>"
      ]
     },
     "metadata": {
      "needs_background": "light"
     },
     "output_type": "display_data"
    }
   ],
   "source": [
    "all_states = []\n",
    "current_state = get_random_state(100, seed=None)\n",
    "all_states.append(current_state)\n",
    "print(sum(current_state)/len(current_state))\n",
    "\n",
    "steps = 100\n",
    "for i in range(steps):\n",
    "    current_state = get_state_boundless(rule_map, current_state)\n",
    "    all_states.append(current_state)\n",
    "\n",
    "# convert the states to integers\n",
    "all_states = [[int(x) for x in state] for state in all_states]\n",
    "all_states = np.array(all_states)\n",
    "visualize_states(all_states, figsize=(5,5), cmap=\"gray\")"
   ]
  },
  {
   "cell_type": "code",
   "execution_count": 20,
   "metadata": {},
   "outputs": [],
   "source": [
    "def predict(state, rule_map, steps=200, output_converged=False):\n",
    "    for i in range(steps):\n",
    "        state = get_state_boundless(rule_map, state)\n",
    "    majority = np.round(sum(state)/len(state))\n",
    "    if output_converged:\n",
    "        return int(majority), state.count(majority)/len(state)>0.8\n",
    "    else:\n",
    "        return int(majority)"
   ]
  },
  {
   "cell_type": "code",
   "execution_count": 33,
   "metadata": {},
   "outputs": [],
   "source": [
    "X = [get_random_state(20, all_possible_states, None) for _ in range(1000)]\n",
    "y_pred = [predict(x, rule_map, 200) for x in X]\n",
    "y_true = (np.array([sum(x)/len(x) for x in X])>0.5).astype(int)"
   ]
  },
  {
   "cell_type": "code",
   "execution_count": 34,
   "metadata": {},
   "outputs": [
    {
     "data": {
      "text/plain": [
       "<sklearn.metrics._plot.confusion_matrix.ConfusionMatrixDisplay at 0x7fc858cc0970>"
      ]
     },
     "execution_count": 34,
     "metadata": {},
     "output_type": "execute_result"
    },
    {
     "data": {
      "image/png": "[encoded data removed]",
      "text/plain": [
       "<Figure size 432x288 with 2 Axes>"
      ]
     },
     "metadata": {
      "needs_background": "light"
     },
     "output_type": "display_data"
    }
   ],
   "source": [
    "\n",
    "\n",
    "cm = confusion_matrix(y_true, y_pred)\n",
    "disp = ConfusionMatrixDisplay(confusion_matrix=cm, display_labels=[\"0\", \"1\"])\n",
    "disp.plot()"
   ]
  },
  {
   "cell_type": "code",
   "execution_count": 35,
   "metadata": {},
   "outputs": [
    {
     "name": "stdout",
     "output_type": "stream",
     "text": [
      "roc score: 0.49291666666666667\n",
      "accuracy: 0.484\n",
      "precision: 0.39377289377289376\n",
      "recall: 0.5375\n",
      "f1 score: 0.45454545454545453\n"
     ]
    }
   ],
   "source": [
    "# print roc score, accuracy, precision, recall, f1 score\n",
    "\n",
    "print(\"roc score:\", roc_auc_score(y_true, y_pred))\n",
    "print(\"accuracy:\", accuracy_score(y_true, y_pred))\n",
    "print(\"precision:\", precision_score(y_true, y_pred))\n",
    "print(\"recall:\", recall_score(y_true, y_pred))\n",
    "print(\"f1 score:\", f1_score(y_true, y_pred))"
   ]
  },
  {
   "attachments": {},
   "cell_type": "markdown",
   "metadata": {},
   "source": [
    "|size|roc score|\n",
    "|----|---------|\n",
    "|20|0.84|\n",
    "|100|0.8|\n",
    "|200|0.75|"
   ]
  },
  {
   "attachments": {},
   "cell_type": "markdown",
   "metadata": {},
   "source": [
    "### input\n",
    "1. an array of binary values\n",
    "\n",
    "### parameters\n",
    "1. a rule for determining the next value of an element based on the element and its neighbors\n",
    "\n",
    "### procedure\n",
    "1. for each element in the array, apply the rule to the element and its neighbors\n",
    "2. repeat step 1 for a given number of iterations\n",
    "\n",
    "### output\n",
    "1. the majority of the input array"
   ]
  },
  {
   "cell_type": "code",
   "execution_count": 79,
   "metadata": {},
   "outputs": [],
   "source": [
    "PREDICT_STEPS = 100\n",
    "FITNESS_NUMBER = 50\n",
    "PREDICT_CELL_NUMBER = 20\n"
   ]
  },
  {
   "cell_type": "code",
   "execution_count": 80,
   "metadata": {},
   "outputs": [],
   "source": [
    "large_X = [get_random_state(PREDICT_CELL_NUMBER, all_possible_states, None) for _ in range(10000)]\n",
    "large_y = (np.array([sum(x)/len(x) for x in large_X])>0.5).astype(int)\n",
    "def generate_x_y(x_num):\n",
    "    X = []\n",
    "    y = []\n",
    "    for i in range(x_num):\n",
    "        idx = np.random.choice(np.where(large_y==i%2)[0])\n",
    "        X.append(large_X[idx])\n",
    "        y.append(large_y[idx])\n",
    "    return X, y"
   ]
  },
  {
   "cell_type": "code",
   "execution_count": 81,
   "metadata": {},
   "outputs": [],
   "source": [
    "def fitness_func(ga_instance, solution, solution_idx):\n",
    "    combinations = product(all_possible_states, repeat=2*vision+1)\n",
    "    rule_map = dict(zip(combinations, solution))\n",
    "    X, y_true = generate_x_y(FITNESS_NUMBER)\n",
    "    y_pred = []\n",
    "    converged_li = []\n",
    "\n",
    "    for x in X:\n",
    "        y, converged = predict(x, rule_map, PREDICT_STEPS, output_converged=True)\n",
    "        y_pred.append(y)\n",
    "        converged_li.append(converged)\n",
    "\n",
    "    try :\n",
    "        roc = roc_auc_score(y_true, y_pred)\n",
    "        converge_rate = sum(converged_li)/len(converged_li)\n",
    "        fitness = converge_rate/(1-roc-0.0001)\n",
    "    except:\n",
    "        print(\"error\")\n",
    "        print(y_pred, y_true, solution, X)\n",
    "        raise\n",
    "    return fitness\n",
    "\n",
    "def on_gen(ga_instance):\n",
    "    print(\"Generation : \", ga_instance.generations_completed)\n",
    "    print(\"Fitness of the best solution :\", ga_instance.best_solution()[1])\n"
   ]
  },
  {
   "cell_type": "code",
   "execution_count": 82,
   "metadata": {},
   "outputs": [],
   "source": [
    "import logging\n",
    "logger = logging.getLogger()\n",
    "logger.setLevel(logging.DEBUG)\n",
    "sol_per_pop = 30\n",
    "initial_population = np.random.randint(low=0, high=2, size=(sol_per_pop, len(rule_map)))\n",
    "initial_population[0] = [0, 0, 0, 0, 0, 0, 0, 0, 0, 0, 0, 1, 0, 1, 0, 1, 1, 0, 1, 0, 0, 1, 0, 0, 0, 1, 1, 1, 0, 0, 0, 1, 0, 1, 0, 1, 1, 1, 0, 1, 1, 1, 1, 0, 0, 0, 1, 0, 1, 0, 0, 1, 1, 0, 1, 1, 0, 1, 0, 1, 0, 1, 1, 1, 0, 0, 0, 1, 1, 0, 0, 0, 0, 1, 0, 1, 0, 1, 1, 1, 0, 1, 0, 1, 0, 1, 1, 1, 0, 1, 1, 0, 1, 1, 1, 1, 0, 1, 1, 0, 1, 1, 0, 0, 0, 0, 0, 1, 1, 1, 0, 1, 0, 0, 1, 1, 1, 1, 0, 1, 1, 1, 0, 1, 1, 1, 1, 1]\n",
    "initial_population[1] = [0, 0, 0, 0, 1, 0, 0, 1, 0, 0, 0, 0, 1, 0, 0, 0, 1, 0, 1, 1, 1, 0, 1, 0, 1, 0, 1, 1, 1, 0, 0, 1, 0, 0, 0, 1, 0, 1, 1, 1, 1, 0, 0, 1, 0, 1, 0, 1, 0, 0, 0, 1, 1, 0, 1, 1, 0, 0, 0, 1, 1, 1, 0, 1, 0, 0, 1, 1, 1, 1, 1, 0, 0, 1, 0, 1, 1, 1, 0, 1, 0, 1, 0, 1, 1, 1, 1, 0, 0, 0, 0, 0, 0, 1, 0, 1, 0, 0, 0, 1, 0, 1, 0, 0, 0, 1, 1, 0, 0, 0, 1, 1, 1, 1, 1, 1, 1, 1, 1, 0, 0, 1, 1, 1, 1, 1, 1, 1]\n",
    "initial_population = initial_population.tolist()\n",
    "\n",
    "ga_instance = pygad.GA(\n",
    "    num_generations=50,\n",
    "    num_parents_mating=4,\n",
    "    fitness_func=fitness_func,\n",
    "    sol_per_pop=sol_per_pop,\n",
    "    num_genes=len(rule_map),\n",
    "    # init_range_low=0,\n",
    "    # init_range_high=2,\n",
    "    initial_population=initial_population,\n",
    "    gene_space=(0,1),\n",
    "    parent_selection_type=\"sss\",\n",
    "    keep_parents=1,\n",
    "    crossover_type=\"single_point\",\n",
    "    mutation_type=\"random\",\n",
    "    mutation_percent_genes=10,\n",
    "    save_solutions=False,\n",
    "    gene_type=int,\n",
    "    logger=logger,\n",
    "    on_generation=on_gen,\n",
    ")\n"
   ]
  },
  {
   "cell_type": "code",
   "execution_count": 83,
   "metadata": {},
   "outputs": [
    {
     "name": "stdout",
     "output_type": "stream",
     "text": [
      "Generation :  1\n",
      "Fitness of the best solution : 3.6167756829549824\n",
      "Generation :  2\n",
      "Fitness of the best solution : 3.6167756829549824\n",
      "Generation :  3\n",
      "Fitness of the best solution : 4.4022011005502755\n",
      "Generation :  4\n",
      "Fitness of the best solution : 4.274670304683947\n",
      "Generation :  5\n",
      "Fitness of the best solution : 4.274670304683947\n",
      "Generation :  6\n",
      "Fitness of the best solution : 4.274670304683947\n",
      "Generation :  7\n",
      "Fitness of the best solution : 4.274670304683947\n",
      "Generation :  8\n",
      "Fitness of the best solution : 4.274670304683947\n",
      "Generation :  9\n",
      "Fitness of the best solution : 4.502251125562783\n",
      "Generation :  10\n",
      "Fitness of the best solution : 5.336297943301832\n",
      "Generation :  11\n",
      "Fitness of the best solution : 4.502251125562783\n",
      "Generation :  12\n",
      "Fitness of the best solution : 4.502251125562783\n",
      "Generation :  13\n",
      "Fitness of the best solution : 4.502251125562783\n",
      "Generation :  14\n",
      "Fitness of the best solution : 4.502251125562783\n",
      "Generation :  15\n",
      "Fitness of the best solution : 4.502251125562783\n",
      "Generation :  16\n",
      "Fitness of the best solution : 4.502251125562783\n",
      "Generation :  17\n",
      "Fitness of the best solution : 4.502251125562783\n",
      "Generation :  18\n",
      "Fitness of the best solution : 4.502251125562783\n",
      "Generation :  19\n",
      "Fitness of the best solution : 4.502251125562783\n",
      "Generation :  20\n",
      "Fitness of the best solution : 4.502251125562783\n",
      "Generation :  21\n",
      "Fitness of the best solution : 4.502251125562783\n",
      "Generation :  22\n",
      "Fitness of the best solution : 4.502251125562783\n",
      "Generation :  23\n",
      "Fitness of the best solution : 4.502251125562783\n",
      "Generation :  24\n",
      "Fitness of the best solution : 4.502251125562783\n",
      "Generation :  25\n",
      "Fitness of the best solution : 4.502251125562783\n",
      "Generation :  26\n",
      "Fitness of the best solution : 4.502251125562783\n",
      "Generation :  27\n",
      "Fitness of the best solution : 4.502251125562783\n",
      "Generation :  28\n",
      "Fitness of the best solution : 4.502251125562783\n",
      "Generation :  29\n",
      "Fitness of the best solution : 4.502251125562783\n",
      "Generation :  30\n",
      "Fitness of the best solution : 4.502251125562783\n",
      "Generation :  31\n",
      "Fitness of the best solution : 4.502251125562783\n",
      "Generation :  32\n",
      "Fitness of the best solution : 4.502251125562783\n",
      "Generation :  33\n",
      "Fitness of the best solution : 4.502251125562783\n",
      "Generation :  34\n",
      "Fitness of the best solution : 4.502251125562783\n",
      "Generation :  35\n",
      "Fitness of the best solution : 4.502251125562783\n",
      "Generation :  36\n",
      "Fitness of the best solution : 4.502251125562783\n",
      "Generation :  37\n",
      "Fitness of the best solution : 4.502251125562783\n",
      "Generation :  38\n",
      "Fitness of the best solution : 4.502251125562783\n",
      "Generation :  39\n",
      "Fitness of the best solution : 4.502251125562783\n",
      "Generation :  40\n",
      "Fitness of the best solution : 4.502251125562783\n",
      "Generation :  41\n",
      "Fitness of the best solution : 4.502251125562783\n",
      "Generation :  42\n",
      "Fitness of the best solution : 4.502251125562783\n",
      "Generation :  43\n",
      "Fitness of the best solution : 4.502251125562783\n",
      "Generation :  44\n",
      "Fitness of the best solution : 4.502251125562783\n",
      "Generation :  45\n",
      "Fitness of the best solution : 6.12883051907442\n",
      "Generation :  46\n",
      "Fitness of the best solution : 4.502251125562783\n",
      "Generation :  47\n",
      "Fitness of the best solution : 4.502251125562783\n",
      "Generation :  48\n",
      "Fitness of the best solution : 4.502251125562783\n",
      "Generation :  49\n",
      "Fitness of the best solution : 4.502251125562783\n",
      "Generation :  50\n",
      "Fitness of the best solution : 4.860614724803431\n"
     ]
    }
   ],
   "source": [
    "ga_instance.run()"
   ]
  },
  {
   "cell_type": "code",
   "execution_count": 88,
   "metadata": {},
   "outputs": [
    {
     "data": {
      "text/plain": [
       "0.5885294117647059"
      ]
     },
     "execution_count": 88,
     "metadata": {},
     "output_type": "execute_result"
    }
   ],
   "source": [
    "1-2/4.860614724803431"
   ]
  },
  {
   "cell_type": "code",
   "execution_count": 84,
   "metadata": {},
   "outputs": [
    {
     "data": {
      "image/png": "[encoded data removed]",
      "text/plain": [
       "<Figure size 432x288 with 1 Axes>"
      ]
     },
     "metadata": {
      "needs_background": "light"
     },
     "output_type": "display_data"
    },
    {
     "data": {
      "image/png": "[encoded data removed]",
      "text/plain": [
       "<Figure size 432x288 with 1 Axes>"
      ]
     },
     "execution_count": 84,
     "metadata": {},
     "output_type": "execute_result"
    }
   ],
   "source": [
    "ga_instance.plot_fitness()"
   ]
  },
  {
   "cell_type": "code",
   "execution_count": 76,
   "metadata": {},
   "outputs": [
    {
     "name": "stdout",
     "output_type": "stream",
     "text": [
      "Parameters of the best solution : [0, 0, 0, 0, 0, 0, 1, 1, 0, 0, 0, 0, 0, 1, 1, 0, 0, 0, 1, 0, 0, 0, 1, 1, 0, 0, 0, 1, 0, 0, 1, 0, 0, 0, 1, 1, 0, 0, 1, 0, 0, 1, 0, 0, 0, 1, 1, 1, 0, 1, 0, 1, 1, 0, 1, 1, 0, 1, 1, 1, 1, 1, 0, 1, 0, 1, 0, 1, 0, 1, 0, 1, 1, 1, 0, 1, 0, 0, 0, 1, 0, 0, 0, 0, 1, 0, 1, 1, 1, 1, 1, 1, 0, 1, 1, 1, 0, 1, 1, 1, 0, 1, 0, 1, 0, 0, 1, 0, 1, 0, 0, 1, 0, 1, 1, 1, 1, 0, 1, 1, 0, 1, 0, 1, 0, 0, 1, 1]\n",
      "Fitness value of the best solution = 12.495594501938411\n"
     ]
    }
   ],
   "source": [
    "solution, solution_fitness, solution_idx = ga_instance.best_solution()\n",
    "print(\"Parameters of the best solution : {solution}\".format(solution=list(solution)))\n",
    "print(\"Fitness value of the best solution = {solution_fitness}\".format(solution_fitness=solution_fitness))\n"
   ]
  },
  {
   "cell_type": "code",
   "execution_count": 67,
   "metadata": {},
   "outputs": [
    {
     "data": {
      "text/plain": [
       "112373531042651088062359351169203679"
      ]
     },
     "execution_count": 67,
     "metadata": {},
     "output_type": "execute_result"
    }
   ],
   "source": [
    "base_n_to_base_10([0, 0, 0, 0, 0, 0, 0, 0, 0, 0, 0, 1, 0, 1, 0, 1, 1, 0, 1, 0, 0, 1, 0, 0, 0, 1, 1, 1, 0, 0, 0, 1, 0, 1, 0, 1, 1, 1, 0, 1, 1, 1, 1, 0, 0, 0, 1, 0, 1, 0, 0, 1, 1, 0, 1, 1, 0, 1, 0, 1, 0, 1,\n",
    "                  1, 1, 0, 0, 0, 1, 1, 0, 0, 0, 0, 1, 0, 1, 0, 1, 1, 1, 0, 1, 0, 1, 0, 1, 1, 1, 0, 1, 1, 0, 1, 1, 1, 1, 0, 1, 1, 0, 1, 1, 0, 0, 0, 0, 0, 1, 1, 1, 0, 1, 0, 0, 1, 1, 1, 1, 0, 1, 1, 1, 0, 1, 1, 1, 1, 1], 2)\n"
   ]
  },
  {
   "attachments": {},
   "cell_type": "markdown",
   "metadata": {},
   "source": [
    "|  id   | roc |  solution   |\n",
    "| --- | --- | --- |\n",
    "|   1  |   0.75  | [0, 0, 0, 0, 0, 0, 0, 0, 0, 0, 0, 1, 0, 1, 0, 1, 1, 0, 1, 0, 0, 1, 0, 0, 0, 1, 1, 1, 0, 0, 0, 1, 0, 1, 0, 1, 1, 1, 0, 1, 1, 1, 1, 0, 0, 0, 1, 0, 1, 0, 0, 1, 1, 0, 1, 1, 0, 1, 0, 1, 0, 1, 1, 1, 0, 0, 0, 1, 1, 0, 0, 0, 0, 1, 0, 1, 0, 1, 1, 1, 0, 1, 0, 1, 0, 1, 1, 1, 0, 1, 1, 0, 1, 1, 1, 1, 0, 1, 1, 0, 1, 1, 0, 0, 0, 0, 0, 1, 1, 1, 0, 1, 0, 0, 1, 1, 1, 1, 0, 1, 1, 1, 0, 1, 1, 1, 1, 1]  |\n",
    "|   2  |     |     |\n",
    "|   3  |     |     |\n",
    "|   4  |     |     |\n",
    "|   5  |     |     |\n",
    "\n"
   ]
  },
  {
   "cell_type": "code",
   "execution_count": 85,
   "metadata": {},
   "outputs": [
    {
     "name": "stdout",
     "output_type": "stream",
     "text": [
      "roc score: 0.6944999999999999\n"
     ]
    }
   ],
   "source": [
    "X2, y_true2 = generate_x_y(2000)\n",
    "\n",
    "combinations = product(all_possible_states, repeat=2*vision+1)\n",
    "rule_map = dict(zip(combinations, solution))\n",
    "y_pred2 = [predict(x, rule_map, PREDICT_STEPS) for x in X2]\n",
    "print(\"roc score:\", roc_auc_score(y_true2, y_pred2))\n"
   ]
  },
  {
   "cell_type": "code",
   "execution_count": 90,
   "metadata": {},
   "outputs": [
    {
     "data": {
      "image/png": "[encoded data removed]",
      "text/plain": [
       "<Figure size 360x576 with 1 Axes>"
      ]
     },
     "metadata": {
      "needs_background": "light"
     },
     "output_type": "display_data"
    },
    {
     "name": "stdout",
     "output_type": "stream",
     "text": [
      "predicted: 1 true: 0 converged: True\n"
     ]
    },
    {
     "data": {
      "image/png": "[encoded data removed]",
      "text/plain": [
       "<Figure size 360x576 with 1 Axes>"
      ]
     },
     "metadata": {
      "needs_background": "light"
     },
     "output_type": "display_data"
    },
    {
     "name": "stdout",
     "output_type": "stream",
     "text": [
      "predicted: 1 true: 1 converged: True\n"
     ]
    },
    {
     "data": {
      "image/png": "[encoded data removed]",
      "text/plain": [
       "<Figure size 360x576 with 1 Axes>"
      ]
     },
     "metadata": {
      "needs_background": "light"
     },
     "output_type": "display_data"
    },
    {
     "name": "stdout",
     "output_type": "stream",
     "text": [
      "predicted: 1 true: 1 converged: True\n"
     ]
    },
    {
     "data": {
      "image/png": "[encoded data removed]",
      "text/plain": [
       "<Figure size 360x576 with 1 Axes>"
      ]
     },
     "metadata": {
      "needs_background": "light"
     },
     "output_type": "display_data"
    },
    {
     "name": "stdout",
     "output_type": "stream",
     "text": [
      "predicted: 1 true: 1 converged: True\n"
     ]
    },
    {
     "data": {
      "image/png": "[encoded data removed]",
      "text/plain": [
       "<Figure size 360x576 with 1 Axes>"
      ]
     },
     "metadata": {
      "needs_background": "light"
     },
     "output_type": "display_data"
    },
    {
     "name": "stdout",
     "output_type": "stream",
     "text": [
      "predicted: 0 true: 0 converged: True\n"
     ]
    },
    {
     "data": {
      "image/png": "[encoded data removed]",
      "text/plain": [
       "<Figure size 360x576 with 1 Axes>"
      ]
     },
     "metadata": {
      "needs_background": "light"
     },
     "output_type": "display_data"
    },
    {
     "name": "stdout",
     "output_type": "stream",
     "text": [
      "predicted: 0 true: 0 converged: True\n"
     ]
    },
    {
     "data": {
      "image/png": "[encoded data removed]",
      "text/plain": [
       "<Figure size 360x576 with 1 Axes>"
      ]
     },
     "metadata": {
      "needs_background": "light"
     },
     "output_type": "display_data"
    },
    {
     "name": "stdout",
     "output_type": "stream",
     "text": [
      "predicted: 0 true: 0 converged: True\n"
     ]
    },
    {
     "data": {
      "image/png": "[encoded data removed]",
      "text/plain": [
       "<Figure size 360x576 with 1 Axes>"
      ]
     },
     "metadata": {
      "needs_background": "light"
     },
     "output_type": "display_data"
    },
    {
     "name": "stdout",
     "output_type": "stream",
     "text": [
      "predicted: 0 true: 0 converged: True\n"
     ]
    },
    {
     "data": {
      "image/png": "[encoded data removed]",
      "text/plain": [
       "<Figure size 360x576 with 1 Axes>"
      ]
     },
     "metadata": {
      "needs_background": "light"
     },
     "output_type": "display_data"
    },
    {
     "name": "stdout",
     "output_type": "stream",
     "text": [
      "predicted: 1 true: 1 converged: True\n"
     ]
    },
    {
     "data": {
      "image/png": "[encoded data removed]",
      "text/plain": [
       "<Figure size 360x576 with 1 Axes>"
      ]
     },
     "metadata": {
      "needs_background": "light"
     },
     "output_type": "display_data"
    },
    {
     "name": "stdout",
     "output_type": "stream",
     "text": [
      "predicted: 1 true: 1 converged: True\n"
     ]
    }
   ],
   "source": [
    "for idx in np.random.choice(range(len(X2)), 10):\n",
    "    init_state = X2[idx]\n",
    "    y = y_true2[idx]\n",
    "    all_states = [init_state]\n",
    "    current_state = init_state\n",
    "    for i in range(PREDICT_STEPS):\n",
    "        current_state = get_state_boundless(rule_map, current_state)\n",
    "        all_states.append(current_state)\n",
    "    all_states = [[int(x) for x in state] for state in all_states]\n",
    "    all_states = np.array(all_states)\n",
    "    visualize_states(all_states, figsize=(5,8), cmap=\"gray\")\n",
    "    combinations = product(all_possible_states, repeat=2*vision+1)\n",
    "    rule_map = dict(zip(combinations, solution))\n",
    "    prediction, converged = predict(init_state, rule_map, PREDICT_STEPS, output_converged=True)\n",
    "    print(\"predicted:\", prediction, \"true:\", y, \"converged:\", converged)"
   ]
  },
  {
   "cell_type": "code",
   "execution_count": null,
   "metadata": {},
   "outputs": [],
   "source": []
  }
 ],
 "metadata": {
  "kernelspec": {
   "display_name": "musa550",
   "language": "python",
   "name": "python3"
  },
  "language_info": {
   "codemirror_mode": {
    "name": "ipython",
    "version": 3
   },
   "file_extension": ".py",
   "mimetype": "text/x-python",
   "name": "python",
   "nbconvert_exporter": "python",
   "pygments_lexer": "ipython3",
   "version": "3.8.10"
  },
  "orig_nbformat": 4
 },
 "nbformat": 4,
 "nbformat_minor": 2
}
